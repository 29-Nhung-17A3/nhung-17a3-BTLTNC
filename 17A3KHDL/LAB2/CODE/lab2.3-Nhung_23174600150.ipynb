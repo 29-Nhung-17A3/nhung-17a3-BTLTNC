{
 "cells": [
  {
   "cell_type": "code",
   "execution_count": 5,
   "metadata": {},
   "outputs": [
    {
     "name": "stdout",
     "output_type": "stream",
     "text": [
      "Efficiency List: [94.0, 97.0, 114.0, 117.0, 117.0, 59.0, 133.0, 71.0, 86.0, 137.0, 120.0, 138.0, 138.0, 62.0, 108.0, 115.0, 89.0, 137.0, 96.0, 138.0, 131.0, 87.0, 75.0, 127.0, 122.0, 59.0, 70.0, 130.0, 119.0, 129.0, 97.0, 114.0, 132.0, 149.0, 138.0, 99.0, 79.0, 69.0, 69.0, 64.0, 89.0, 82.0, 115.0, 59.0, 107.0, 82.0, 81.0, 124.0, 73.0, 85.0, 125.0, 105.0, 78.0, 84.0, 50.0, 50.0, 86.0, 103.0, 55.0, 88.0, 67.0, 129.0, 54.0, 92.0, 108.0, 81.0, 51.0, 115.0, 91.0, 107.0, 85.0, 61.0, 96.0, 132.0, 141.0, 50.0, 64.0, 149.0, 103.0, 62.0, 92.0, 134.0, 125.0, 118.0, 56.0, 118.0, 97.0, 53.0, 126.0, 102.0, 128.0, 65.0, 70.0, 149.0, 108.0, 73.0, 129.0, 63.0, 135.0, 98.0]\n",
      "Shifts List: ['Afternoon', 'Afternoon', 'Afternoon', 'Morning', 'Afternoon', 'Night', 'Morning', 'Afternoon', 'Night', 'Morning', 'Night', 'Morning', 'Afternoon', 'Night', 'Night', 'Afternoon', 'Morning', 'Afternoon', 'Afternoon', 'Morning', 'Night', 'Night', 'Night', 'Night', 'Afternoon', 'Night', 'Night', 'Night', 'Night', 'Night', 'Morning', 'Afternoon', 'Night', 'Night', 'Afternoon', 'Night', 'Afternoon', 'Morning', 'Night', 'Night', 'Morning', 'Night', 'Morning', 'Morning', 'Night', 'Morning', 'Night', 'Night', 'Night', 'Morning', 'Morning', 'Morning', 'Afternoon', 'Night', 'Morning', 'Afternoon', 'Night', 'Night', 'Night', 'Afternoon', 'Morning', 'Morning', 'Morning', 'Morning', 'Night', 'Night', 'Morning', 'Morning', 'Morning', 'Afternoon', 'Night', 'Morning', 'Morning', 'Afternoon', 'Morning', 'Night', 'Afternoon', 'Afternoon', 'Afternoon', 'Morning', 'Morning', 'Morning', 'Afternoon', 'Afternoon', 'Night', 'Afternoon', 'Morning', 'Morning', 'Afternoon', 'Night', 'Afternoon', 'Afternoon', 'Afternoon', 'Morning', 'Morning', 'Morning', 'Afternoon', 'Night', 'Afternoon', 'Afternoon']\n"
     ]
    }
   ],
   "source": [
    "with open('D:\\\\17A3KHDL\\\\LAB2\\\\DATA\\\\efficiency.txt', 'r') as file_eff:\n",
    "    efficiency = [float(line.strip()) for line in file_eff]\n",
    "\n",
    "with open('D:\\\\17A3KHDL\\\\LAB2\\\\DATA\\\\shifts.txt', 'r') as file_shifts:\n",
    "    shifts = [line.strip() for line in file_shifts]\n",
    "\n",
    "print(\"Efficiency List:\", efficiency)\n",
    "print(\"Shifts List:\", shifts)\n"
   ]
  },
  {
   "cell_type": "code",
   "execution_count": 6,
   "metadata": {},
   "outputs": [
    {
     "name": "stdout",
     "output_type": "stream",
     "text": [
      "np_shifts: ['Afternoon' 'Afternoon' 'Afternoon' 'Morning' 'Afternoon' 'Night'\n",
      " 'Morning' 'Afternoon' 'Night' 'Morning' 'Night' 'Morning' 'Afternoon'\n",
      " 'Night' 'Night' 'Afternoon' 'Morning' 'Afternoon' 'Afternoon' 'Morning'\n",
      " 'Night' 'Night' 'Night' 'Night' 'Afternoon' 'Night' 'Night' 'Night'\n",
      " 'Night' 'Night' 'Morning' 'Afternoon' 'Night' 'Night' 'Afternoon' 'Night'\n",
      " 'Afternoon' 'Morning' 'Night' 'Night' 'Morning' 'Night' 'Morning'\n",
      " 'Morning' 'Night' 'Morning' 'Night' 'Night' 'Night' 'Morning' 'Morning'\n",
      " 'Morning' 'Afternoon' 'Night' 'Morning' 'Afternoon' 'Night' 'Night'\n",
      " 'Night' 'Afternoon' 'Morning' 'Morning' 'Morning' 'Morning' 'Night'\n",
      " 'Night' 'Morning' 'Morning' 'Morning' 'Afternoon' 'Night' 'Morning'\n",
      " 'Morning' 'Afternoon' 'Morning' 'Night' 'Afternoon' 'Afternoon'\n",
      " 'Afternoon' 'Morning' 'Morning' 'Morning' 'Afternoon' 'Afternoon' 'Night'\n",
      " 'Afternoon' 'Morning' 'Morning' 'Afternoon' 'Night' 'Afternoon'\n",
      " 'Afternoon' 'Afternoon' 'Morning' 'Morning' 'Morning' 'Afternoon' 'Night'\n",
      " 'Afternoon' 'Afternoon']\n",
      "Kiểu dữ liệu của np_shifts: <U9\n"
     ]
    }
   ],
   "source": [
    "import numpy as np\n",
    "\n",
    "np_shifts = np.array(shifts)\n",
    "print(\"np_shifts:\", np_shifts)\n",
    "print(\"Kiểu dữ liệu của np_shifts:\", np_shifts.dtype)\n"
   ]
  },
  {
   "cell_type": "code",
   "execution_count": 7,
   "metadata": {},
   "outputs": [
    {
     "name": "stdout",
     "output_type": "stream",
     "text": [
      "np_efficiency: [ 94.  97. 114. 117. 117.  59. 133.  71.  86. 137. 120. 138. 138.  62.\n",
      " 108. 115.  89. 137.  96. 138. 131.  87.  75. 127. 122.  59.  70. 130.\n",
      " 119. 129.  97. 114. 132. 149. 138.  99.  79.  69.  69.  64.  89.  82.\n",
      " 115.  59. 107.  82.  81. 124.  73.  85. 125. 105.  78.  84.  50.  50.\n",
      "  86. 103.  55.  88.  67. 129.  54.  92. 108.  81.  51. 115.  91. 107.\n",
      "  85.  61.  96. 132. 141.  50.  64. 149. 103.  62.  92. 134. 125. 118.\n",
      "  56. 118.  97.  53. 126. 102. 128.  65.  70. 149. 108.  73. 129.  63.\n",
      " 135.  98.]\n",
      "Kiểu dữ liệu của np_efficiency: float64\n"
     ]
    }
   ],
   "source": [
    "# Bước 3: Chuyển list efficiency thành NumPy array\n",
    "np_efficiency = np.array(efficiency)\n",
    "print(\"np_efficiency:\", np_efficiency)\n",
    "print(\"Kiểu dữ liệu của np_efficiency:\", np_efficiency.dtype)\n"
   ]
  },
  {
   "cell_type": "code",
   "execution_count": 8,
   "metadata": {},
   "outputs": [
    {
     "name": "stdout",
     "output_type": "stream",
     "text": [
      "Hiệu suất trung bình ca 'Morning': 96.8529411764706\n"
     ]
    }
   ],
   "source": [
    "# Bước 4: Tính hiệu suất trung bình của ca 'Morning'\n",
    "morning_mask = np_shifts == 'Morning'\n",
    "morning_efficiency = np_efficiency[morning_mask]\n",
    "average_morning_efficiency = np.mean(morning_efficiency)\n",
    "\n",
    "print(\"Hiệu suất trung bình ca 'Morning':\", average_morning_efficiency)\n"
   ]
  },
  {
   "cell_type": "code",
   "execution_count": 9,
   "metadata": {},
   "outputs": [
    {
     "name": "stdout",
     "output_type": "stream",
     "text": [
      "Hiệu suất trung bình ca không phải 'Morning': 98.93939393939394\n"
     ]
    }
   ],
   "source": [
    "# Bước 5: Tính hiệu suất trung bình của các ca không phải 'Morning'\n",
    "not_morning_mask = np_shifts != 'Morning'\n",
    "not_morning_efficiency = np_efficiency[not_morning_mask]\n",
    "average_not_morning_efficiency = np.mean(not_morning_efficiency)\n",
    "\n",
    "print(\"Hiệu suất trung bình ca không phải 'Morning':\", average_not_morning_efficiency)\n"
   ]
  },
  {
   "cell_type": "code",
   "execution_count": 10,
   "metadata": {},
   "outputs": [
    {
     "name": "stdout",
     "output_type": "stream",
     "text": [
      "Structured Array workers:\n",
      "[('Afternoon',  94.) ('Afternoon',  97.) ('Afternoon', 114.)\n",
      " ('Morning', 117.) ('Afternoon', 117.) ('Night',  59.) ('Morning', 133.)\n",
      " ('Afternoon',  71.) ('Night',  86.) ('Morning', 137.) ('Night', 120.)\n",
      " ('Morning', 138.) ('Afternoon', 138.) ('Night',  62.) ('Night', 108.)\n",
      " ('Afternoon', 115.) ('Morning',  89.) ('Afternoon', 137.)\n",
      " ('Afternoon',  96.) ('Morning', 138.) ('Night', 131.) ('Night',  87.)\n",
      " ('Night',  75.) ('Night', 127.) ('Afternoon', 122.) ('Night',  59.)\n",
      " ('Night',  70.) ('Night', 130.) ('Night', 119.) ('Night', 129.)\n",
      " ('Morning',  97.) ('Afternoon', 114.) ('Night', 132.) ('Night', 149.)\n",
      " ('Afternoon', 138.) ('Night',  99.) ('Afternoon',  79.) ('Morning',  69.)\n",
      " ('Night',  69.) ('Night',  64.) ('Morning',  89.) ('Night',  82.)\n",
      " ('Morning', 115.) ('Morning',  59.) ('Night', 107.) ('Morning',  82.)\n",
      " ('Night',  81.) ('Night', 124.) ('Night',  73.) ('Morning',  85.)\n",
      " ('Morning', 125.) ('Morning', 105.) ('Afternoon',  78.) ('Night',  84.)\n",
      " ('Morning',  50.) ('Afternoon',  50.) ('Night',  86.) ('Night', 103.)\n",
      " ('Night',  55.) ('Afternoon',  88.) ('Morning',  67.) ('Morning', 129.)\n",
      " ('Morning',  54.) ('Morning',  92.) ('Night', 108.) ('Night',  81.)\n",
      " ('Morning',  51.) ('Morning', 115.) ('Morning',  91.) ('Afternoon', 107.)\n",
      " ('Night',  85.) ('Morning',  61.) ('Morning',  96.) ('Afternoon', 132.)\n",
      " ('Morning', 141.) ('Night',  50.) ('Afternoon',  64.) ('Afternoon', 149.)\n",
      " ('Afternoon', 103.) ('Morning',  62.) ('Morning',  92.) ('Morning', 134.)\n",
      " ('Afternoon', 125.) ('Afternoon', 118.) ('Night',  56.)\n",
      " ('Afternoon', 118.) ('Morning',  97.) ('Morning',  53.)\n",
      " ('Afternoon', 126.) ('Night', 102.) ('Afternoon', 128.)\n",
      " ('Afternoon',  65.) ('Afternoon',  70.) ('Morning', 149.)\n",
      " ('Morning', 108.) ('Morning',  73.) ('Afternoon', 129.) ('Night',  63.)\n",
      " ('Afternoon', 135.) ('Afternoon',  98.)]\n"
     ]
    }
   ],
   "source": [
    "# Bước 6: Tạo Structured Array workers\n",
    "workers_dtype = np.dtype([('shift', 'U10'), ('efficiency', 'float')])\n",
    "workers = np.array(list(zip(np_shifts, np_efficiency)), dtype=workers_dtype)\n",
    "\n",
    "print(\"Structured Array workers:\")\n",
    "print(workers)\n"
   ]
  },
  {
   "cell_type": "code",
   "execution_count": 11,
   "metadata": {},
   "outputs": [
    {
     "name": "stdout",
     "output_type": "stream",
     "text": [
      "Mảng workers sau khi sắp xếp:\n",
      "[('Afternoon',  50.) ('Morning',  50.) ('Night',  50.) ('Morning',  51.)\n",
      " ('Morning',  53.) ('Morning',  54.) ('Night',  55.) ('Night',  56.)\n",
      " ('Morning',  59.) ('Night',  59.) ('Night',  59.) ('Morning',  61.)\n",
      " ('Morning',  62.) ('Night',  62.) ('Night',  63.) ('Afternoon',  64.)\n",
      " ('Night',  64.) ('Afternoon',  65.) ('Morning',  67.) ('Morning',  69.)\n",
      " ('Night',  69.) ('Afternoon',  70.) ('Night',  70.) ('Afternoon',  71.)\n",
      " ('Morning',  73.) ('Night',  73.) ('Night',  75.) ('Afternoon',  78.)\n",
      " ('Afternoon',  79.) ('Night',  81.) ('Night',  81.) ('Morning',  82.)\n",
      " ('Night',  82.) ('Night',  84.) ('Morning',  85.) ('Night',  85.)\n",
      " ('Night',  86.) ('Night',  86.) ('Night',  87.) ('Afternoon',  88.)\n",
      " ('Morning',  89.) ('Morning',  89.) ('Morning',  91.) ('Morning',  92.)\n",
      " ('Morning',  92.) ('Afternoon',  94.) ('Afternoon',  96.)\n",
      " ('Morning',  96.) ('Afternoon',  97.) ('Morning',  97.) ('Morning',  97.)\n",
      " ('Afternoon',  98.) ('Night',  99.) ('Night', 102.) ('Afternoon', 103.)\n",
      " ('Night', 103.) ('Morning', 105.) ('Afternoon', 107.) ('Night', 107.)\n",
      " ('Morning', 108.) ('Night', 108.) ('Night', 108.) ('Afternoon', 114.)\n",
      " ('Afternoon', 114.) ('Afternoon', 115.) ('Morning', 115.)\n",
      " ('Morning', 115.) ('Afternoon', 117.) ('Morning', 117.)\n",
      " ('Afternoon', 118.) ('Afternoon', 118.) ('Night', 119.) ('Night', 120.)\n",
      " ('Afternoon', 122.) ('Night', 124.) ('Afternoon', 125.) ('Morning', 125.)\n",
      " ('Afternoon', 126.) ('Night', 127.) ('Afternoon', 128.)\n",
      " ('Afternoon', 129.) ('Morning', 129.) ('Night', 129.) ('Night', 130.)\n",
      " ('Night', 131.) ('Afternoon', 132.) ('Night', 132.) ('Morning', 133.)\n",
      " ('Morning', 134.) ('Afternoon', 135.) ('Afternoon', 137.)\n",
      " ('Morning', 137.) ('Afternoon', 138.) ('Afternoon', 138.)\n",
      " ('Morning', 138.) ('Morning', 138.) ('Morning', 141.) ('Afternoon', 149.)\n",
      " ('Morning', 149.) ('Night', 149.)]\n",
      "Ca làm việc có hiệu suất thấp nhất: Afternoon\n",
      "Ca làm việc có hiệu suất cao nhất: Night\n"
     ]
    }
   ],
   "source": [
    "# Bước 7: Sắp xếp mảng workers theo efficiency\n",
    "sorted_workers = np.sort(workers, order='efficiency')\n",
    "\n",
    "print(\"Mảng workers sau khi sắp xếp:\")\n",
    "print(sorted_workers)\n",
    "\n",
    "# Ca làm việc có hiệu suất thấp nhất và cao nhất\n",
    "lowest_efficiency_shift = sorted_workers[0]['shift']\n",
    "highest_efficiency_shift = sorted_workers[-1]['shift']\n",
    "\n",
    "print(\"Ca làm việc có hiệu suất thấp nhất:\", lowest_efficiency_shift)\n",
    "print(\"Ca làm việc có hiệu suất cao nhất:\", highest_efficiency_shift)\n"
   ]
  }
 ],
 "metadata": {
  "kernelspec": {
   "display_name": "Python 3",
   "language": "python",
   "name": "python3"
  },
  "language_info": {
   "codemirror_mode": {
    "name": "ipython",
    "version": 3
   },
   "file_extension": ".py",
   "mimetype": "text/x-python",
   "name": "python",
   "nbconvert_exporter": "python",
   "pygments_lexer": "ipython3",
   "version": "3.10.11"
  }
 },
 "nbformat": 4,
 "nbformat_minor": 2
}
