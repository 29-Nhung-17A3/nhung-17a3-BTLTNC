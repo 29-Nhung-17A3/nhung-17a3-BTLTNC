{
 "cells": [
  {
   "cell_type": "code",
   "execution_count": 3,
   "metadata": {},
   "outputs": [
    {
     "name": "stdout",
     "output_type": "stream",
     "text": [
      "Dữ liệu đã đọc từ file:\n",
      " [['1' 'Nguyễn Văn Bình' '3.04' '3.39' '6.7']\n",
      " ['2' 'Lê Thị Na' '5.8' '6.41' '6.62']\n",
      " ['3' 'Trần Văn Thành' '2.59' '3.57' '9.16']\n",
      " ['4' 'Phạm Thị Hồng' '3.81' '8.78' '9.24']\n",
      " ['5' 'Bùi Văn An' '8.91' '9.64' '6.39']\n",
      " ['6' 'Hoàng Thị Lan' '3.23' '4.72' '6.17']\n",
      " ['7' 'Vũ Văn Hùng' '2.35' '3.29' '6.89']\n",
      " ['8' 'Đặng Thị Mai' '2.48' '3.81' '4.84']\n",
      " ['9' 'Đỗ Văn Hải' '3.23' '2.61' '4.52']\n",
      " ['10' 'Ngô Thị Thanh' '7.02' '9.01' '9.15']\n",
      " ['11' 'Lương Văn Dũng' '2.29' '4.48' '5.51']\n",
      " ['12' 'Mai Thị Hằng' '3.51' '7.19' '5.13']\n",
      " ['13' 'Dương Văn Long' '6.74' '7.78' '6.19']\n",
      " ['14' 'Nguyễn Thị Hà' '9.86' '4.64' '3.33']\n",
      " ['15' 'Trần Văn Tuấn' '8.04' '5.12' '4.77']\n",
      " ['16' 'Lê Văn Phúc' '2.74' '8.88' '5.8']\n",
      " ['17' 'Phạm Thị Nhung' '3.04' '6.88' '3.91']\n",
      " ['18' 'Hoàng Văn Nam' '5.87' '4.41' '8.84']\n",
      " ['19' 'Bùi Thị Lan' '8.46' '2.63' '4.91']\n",
      " ['20' 'Vũ Thị Thanh' '3.74' '6.71' '3.44']\n",
      " ['21' 'Đặng Văn Hùng' '5.67' '8.05' '6.03']\n",
      " ['22' 'Đỗ Thị Hồng' '8.12' '2.46' '3.87']\n",
      " ['23' 'Ngô Văn Thành' '9.4' '5.31' '5.13']\n",
      " ['24' 'Lương Thị Mai' '3.91' '5.09' '8.82']\n",
      " ['25' 'Mai Văn Dũng' '4.26' '5.78' '8.14']\n",
      " ['26' 'Dương Thị Hằng' '4.41' '2.66' '5.4']\n",
      " ['27' 'Nguyễn Văn Long' '3.23' '8.3' '8.64']\n",
      " ['28' 'Trần Thị Hà' '9.25' '8.29' '9.1']\n",
      " ['29' 'Lê Văn Tuấn' '6.08' '2.67' '6.39']\n",
      " ['30' 'Phạm Thị Phúc' '3.85' '7.71' '5.75']]\n"
     ]
    }
   ],
   "source": [
    "import numpy as np\n",
    "import csv\n",
    "\n",
    "# Bước 1: Đọc dữ liệu từ file CSV\n",
    "file_path = 'D:\\\\17A3KHDL\\\\LAB2\\\\DATA\\\\diem_hoc_phan.csv'\n",
    "\n",
    "with open(file_path, 'r', encoding='utf-8') as file:\n",
    "    reader = csv.reader(file)\n",
    "    header = next(reader)  # Đọc tiêu đề cột\n",
    "    data = [row for row in reader]  # Đọc các dòng dữ liệu\n",
    "\n",
    "# Chuyển thành NumPy array\n",
    "data_array = np.array(data)\n",
    "print(\"Dữ liệu đã đọc từ file:\\n\", data_array)\n"
   ]
  },
  {
   "cell_type": "code",
   "execution_count": 4,
   "metadata": {},
   "outputs": [
    {
     "name": "stdout",
     "output_type": "stream",
     "text": [
      "Dữ liệu sau khi qui đổi:\n",
      " [['1' 'Nguyễn Văn Bình' 'F' 'F' 'C+']\n",
      " ['2' 'Lê Thị Na' 'C' 'F' 'C+']\n",
      " ['3' 'Trần Văn Thành' 'F' 'F' 'A']\n",
      " ['4' 'Phạm Thị Hồng' 'F' 'A' 'A']\n",
      " ['5' 'Bùi Văn An' 'A' 'A' 'F']\n",
      " ['6' 'Hoàng Thị Lan' 'F' 'D' 'F']\n",
      " ['7' 'Vũ Văn Hùng' 'F' 'F' 'C+']\n",
      " ['8' 'Đặng Thị Mai' 'F' 'F' 'D']\n",
      " ['9' 'Đỗ Văn Hải' 'F' 'F' 'D']\n",
      " ['10' 'Ngô Thị Thanh' 'B' 'A' 'A']\n",
      " ['11' 'Lương Văn Dũng' 'F' 'D' 'C']\n",
      " ['12' 'Mai Thị Hằng' 'F' 'B' 'D+']\n",
      " ['13' 'Dương Văn Long' 'C+' 'B' 'F']\n",
      " ['14' 'Nguyễn Thị Hà' 'A' 'D' 'F']\n",
      " ['15' 'Trần Văn Tuấn' 'B+' 'D+' 'D']\n",
      " ['16' 'Lê Văn Phúc' 'F' 'A' 'C']\n",
      " ['17' 'Phạm Thị Nhung' 'F' 'C+' 'F']\n",
      " ['18' 'Hoàng Văn Nam' 'C' 'D' 'A']\n",
      " ['19' 'Bùi Thị Lan' 'F' 'F' 'D']\n",
      " ['20' 'Vũ Thị Thanh' 'F' 'C+' 'F']\n",
      " ['21' 'Đặng Văn Hùng' 'C' 'B+' 'F']\n",
      " ['22' 'Đỗ Thị Hồng' 'B+' 'F' 'F']\n",
      " ['23' 'Ngô Văn Thành' 'A' 'D+' 'D+']\n",
      " ['24' 'Lương Thị Mai' 'F' 'D+' 'A']\n",
      " ['25' 'Mai Văn Dũng' 'D' 'C' 'B+']\n",
      " ['26' 'Dương Thị Hằng' 'D' 'F' 'D+']\n",
      " ['27' 'Nguyễn Văn Long' 'F' 'B+' 'A']\n",
      " ['28' 'Trần Thị Hà' 'A' 'B+' 'A']\n",
      " ['29' 'Lê Văn Tuấn' 'F' 'F' 'F']\n",
      " ['30' 'Phạm Thị Phúc' 'F' 'B' 'C']]\n"
     ]
    }
   ],
   "source": [
    "def convert_to_credit_grade(score):\n",
    "    score = float(score)\n",
    "    if 8.5 <= score <= 10:\n",
    "        return 'A'\n",
    "    elif 8.0 <= score <= 8.4:\n",
    "        return 'B+'\n",
    "    elif 7.0 <= score < 8.0:\n",
    "        return 'B'\n",
    "    elif 6.5 <= score < 7.0:\n",
    "        return 'C+'\n",
    "    elif 5.5 <= score < 6.0:\n",
    "        return 'C'\n",
    "    elif 5.0 <= score < 5.5:\n",
    "        return 'D+'\n",
    "    elif 4.0 <= score < 5.0:\n",
    "        return 'D'\n",
    "    else:\n",
    "        return 'F'\n",
    "\n",
    "# Qui đổi điểm cho từng học phần\n",
    "grades = []\n",
    "for row in data_array:\n",
    "    student_grades = [row[0], row[1]]  # Lưu ID và tên SV\n",
    "    student_grades += [convert_to_credit_grade(score) for score in row[2:]]\n",
    "    grades.append(student_grades)\n",
    "\n",
    "grades_array = np.array(grades)\n",
    "print(\"Dữ liệu sau khi qui đổi:\\n\", grades_array)\n"
   ]
  },
  {
   "cell_type": "code",
   "execution_count": 5,
   "metadata": {},
   "outputs": [
    {
     "name": "stdout",
     "output_type": "stream",
     "text": [
      "Điểm HP1: [3.04 5.8  2.59 3.81 8.91 3.23 2.35 2.48 3.23 7.02 2.29 3.51 6.74 9.86\n",
      " 8.04 2.74 3.04 5.87 8.46 3.74 5.67 8.12 9.4  3.91 4.26 4.41 3.23 9.25\n",
      " 6.08 3.85]\n",
      "Điểm HP2: [3.39 6.41 3.57 8.78 9.64 4.72 3.29 3.81 2.61 9.01 4.48 7.19 7.78 4.64\n",
      " 5.12 8.88 6.88 4.41 2.63 6.71 8.05 2.46 5.31 5.09 5.78 2.66 8.3  8.29\n",
      " 2.67 7.71]\n",
      "Điểm HP3: [6.7  6.62 9.16 9.24 6.39 6.17 6.89 4.84 4.52 9.15 5.51 5.13 6.19 3.33\n",
      " 4.77 5.8  3.91 8.84 4.91 3.44 6.03 3.87 5.13 8.82 8.14 5.4  8.64 9.1\n",
      " 6.39 5.75]\n"
     ]
    }
   ],
   "source": [
    "hp1 = data_array[:, 2].astype(float)  \n",
    "hp2 = data_array[:, 3].astype(float)  \n",
    "hp3 = data_array[:, 4].astype(float)  \n",
    "\n",
    "print(\"Điểm HP1:\", hp1)\n",
    "print(\"Điểm HP2:\", hp2)\n",
    "print(\"Điểm HP3:\", hp3)\n"
   ]
  },
  {
   "cell_type": "code",
   "execution_count": 6,
   "metadata": {},
   "outputs": [
    {
     "name": "stdout",
     "output_type": "stream",
     "text": [
      "\n",
      "Phân tích HP1:\n",
      "Tổng điểm: 154.92999999999998\n",
      "Điểm trung bình: 5.16\n",
      "Độ lệch chuẩn: 2.41\n",
      "\n",
      "Phân tích HP2:\n",
      "Tổng điểm: 170.27\n",
      "Điểm trung bình: 5.68\n",
      "Độ lệch chuẩn: 2.25\n",
      "\n",
      "Phân tích HP3:\n",
      "Tổng điểm: 188.78\n",
      "Điểm trung bình: 6.29\n",
      "Độ lệch chuẩn: 1.81\n"
     ]
    }
   ],
   "source": [
    "def analyze_scores(scores, subject_name):\n",
    "    total = np.sum(scores)\n",
    "    mean = np.mean(scores)\n",
    "    std_dev = np.std(scores)\n",
    "\n",
    "    print(f\"\\nPhân tích {subject_name}:\")\n",
    "    print(f\"Tổng điểm: {total}\")\n",
    "    print(f\"Điểm trung bình: {mean:.2f}\")\n",
    "    print(f\"Độ lệch chuẩn: {std_dev:.2f}\")\n",
    "\n",
    "# Phân tích điểm cho từng học phần\n",
    "analyze_scores(hp1, \"HP1\")\n",
    "analyze_scores(hp2, \"HP2\")\n",
    "analyze_scores(hp3, \"HP3\")\n"
   ]
  },
  {
   "cell_type": "code",
   "execution_count": 7,
   "metadata": {},
   "outputs": [
    {
     "name": "stdout",
     "output_type": "stream",
     "text": [
      "\n",
      "Phân tích điểm tổng hợp:\n",
      "Điểm F: 36 sinh viên\n",
      "Điểm C+: 6 sinh viên\n",
      "Điểm C: 7 sinh viên\n",
      "Điểm A: 15 sinh viên\n",
      "Điểm D: 10 sinh viên\n",
      "Điểm B: 4 sinh viên\n",
      "Điểm D+: 6 sinh viên\n",
      "Điểm B+: 6 sinh viên\n"
     ]
    }
   ],
   "source": [
    "from collections import Counter\n",
    "\n",
    "# Ghép tất cả các điểm chữ lại để đếm\n",
    "all_grades = grades_array[:, 2:].flatten()\n",
    "grade_counts = Counter(all_grades)\n",
    "\n",
    "print(\"\\nPhân tích điểm tổng hợp:\")\n",
    "for grade, count in grade_counts.items():\n",
    "    print(f\"Điểm {grade}: {count} sinh viên\")\n"
   ]
  }
 ],
 "metadata": {
  "kernelspec": {
   "display_name": "Python 3",
   "language": "python",
   "name": "python3"
  },
  "language_info": {
   "codemirror_mode": {
    "name": "ipython",
    "version": 3
   },
   "file_extension": ".py",
   "mimetype": "text/x-python",
   "name": "python",
   "nbconvert_exporter": "python",
   "pygments_lexer": "ipython3",
   "version": "3.10.11"
  }
 },
 "nbformat": 4,
 "nbformat_minor": 2
}
