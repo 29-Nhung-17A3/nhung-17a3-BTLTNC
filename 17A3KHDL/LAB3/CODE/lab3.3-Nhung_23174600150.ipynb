{
 "cells": [
  {
   "cell_type": "code",
   "execution_count": 1,
   "metadata": {},
   "outputs": [],
   "source": [
    "import pandas as pd"
   ]
  },
  {
   "cell_type": "code",
   "execution_count": 3,
   "metadata": {},
   "outputs": [],
   "source": [
    "# 1. Đọc file stostocks2.csv' vào DataFrame stocks2\n",
    "stocks2 = pd.read_csv('D:\\\\17A3KHDL\\\\LAB3\\\\DATA\\\\stocks2.csv')"
   ]
  },
  {
   "cell_type": "code",
   "execution_count": 11,
   "metadata": {},
   "outputs": [],
   "source": [
    "# 2. Gộp stocks1 và stocks2 thành một DataFrame mới tên là stocks\n",
    "stocks1 = pd.read_csv('D:\\\\17A3KHDL\\\\LAB3\\\\DATA\\\\stocks1.csv') \n",
    "stocks2 = pd.read_csv('D:\\\\17A3KHDL\\\\LAB3\\\\DATA\\\\stocks2.csv')\n",
    "stocks = pd.concat([stocks1, stocks2], ignore_index=True)\n"
   ]
  },
  {
   "cell_type": "code",
   "execution_count": null,
   "metadata": {},
   "outputs": [
    {
     "name": "stdout",
     "output_type": "stream",
     "text": [
      "Stocks sau khi gộpgộp:\n",
      "       date symbol     open     high      low    close   volume  average_open  \\\n",
      "0  01-03-19   AMZN  1655.13  1674.26  1651.00  1671.73  4974877       684.770   \n",
      "1  04-03-19   AMZN  1685.00  1709.43  1674.36  1696.17  6167358       693.940   \n",
      "2  05-03-19   AMZN  1702.95  1707.80  1689.01  1692.43  3681522       695.664   \n",
      "3  06-03-19   AMZN  1695.97      NaN      NaN  1668.95  3996001       696.502   \n",
      "4  07-03-19   AMZN  1667.37  1669.75  1620.51  1625.95  4957017       689.460   \n",
      "\n",
      "   average_high  average_low  average_close  \n",
      "0     692.52840     680.4460        688.952  \n",
      "1     702.39200     685.1260        694.510  \n",
      "2     584.92000     575.0500        695.558  \n",
      "3     449.53395     443.7725        690.016  \n",
      "4     691.47800     673.8600        677.494  \n"
     ]
    }
   ],
   "source": [
    "print(\"Stocks sau khi gộp:\")\n",
    "print(stocks.head())\n"
   ]
  },
  {
   "cell_type": "code",
   "execution_count": 17,
   "metadata": {},
   "outputs": [],
   "source": [
    "# 3. Tính giá trung bình (open, high, low, close) cho mỗi ngày\n",
    "stocks['average_open'] = stocks.groupby('date')['open'].transform('mean')\n",
    "stocks['average_high'] = stocks.groupby('date')['high'].transform('mean')\n",
    "stocks['average_low'] = stocks.groupby('date')['low'].transform('mean')\n",
    "stocks['average_close'] = stocks.groupby('date')['close'].transform('mean')\n",
    "stocks_avg = stocks[['date', 'average_open', 'average_high', 'average_low', 'average_close']].drop_duplicates()\n"
   ]
  },
  {
   "cell_type": "code",
   "execution_count": 7,
   "metadata": {},
   "outputs": [
    {
     "name": "stdout",
     "output_type": "stream",
     "text": [
      "       date  average_open  average_high  average_low  average_close\n",
      "0  01-03-19       684.770     692.52840     680.4460        688.952\n",
      "1  04-03-19       693.940     702.39200     685.1260        694.510\n",
      "2  05-03-19       695.664     584.92000     575.0500        695.558\n",
      "3  06-03-19       696.502     449.53395     443.7725        690.016\n",
      "4  07-03-19       689.460     691.47800     673.8600        677.494\n"
     ]
    }
   ],
   "source": [
    "# 4. Hiển thị 5 dòng đầu tiên của kết quả\n",
    "print(stocks_avg.head())"
   ]
  }
 ],
 "metadata": {
  "kernelspec": {
   "display_name": "Python 3",
   "language": "python",
   "name": "python3"
  },
  "language_info": {
   "codemirror_mode": {
    "name": "ipython",
    "version": 3
   },
   "file_extension": ".py",
   "mimetype": "text/x-python",
   "name": "python",
   "nbconvert_exporter": "python",
   "pygments_lexer": "ipython3",
   "version": "3.10.11"
  }
 },
 "nbformat": 4,
 "nbformat_minor": 2
}
