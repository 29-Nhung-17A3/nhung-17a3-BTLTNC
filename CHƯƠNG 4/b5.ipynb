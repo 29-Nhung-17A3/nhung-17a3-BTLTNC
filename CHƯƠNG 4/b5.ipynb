{
 "cells": [
  {
   "cell_type": "code",
   "execution_count": 1,
   "metadata": {},
   "outputs": [
    {
     "name": "stdout",
     "output_type": "stream",
     "text": [
      "minimum 3.1933862199881835\n",
      "25th percentile 9.274249546110909\n",
      "mendian 11.991836780373763\n",
      "75th percentile 14.1352866967077\n",
      "max 20.491014896002707\n"
     ]
    }
   ],
   "source": [
    "import numpy as np\n",
    "import pandas as pd\n",
    "ser= pd.Series(np.random.normal(10, 5, 25))\n",
    "# gia tri toi thieu\n",
    "print(\"minimum\",ser.min())\n",
    "# centile 25\n",
    "print(\"25th percentile\",ser.quantile(0.25))\n",
    "# trung vi\n",
    "print(\"mendian\",ser.median())\n",
    "# centile 75\n",
    "print(\"75th percentile\",ser.quantile(0.75))\n",
    "# max\n",
    "print(\"max\",ser.max())"
   ]
  }
 ],
 "metadata": {
  "kernelspec": {
   "display_name": "Python 3",
   "language": "python",
   "name": "python3"
  },
  "language_info": {
   "codemirror_mode": {
    "name": "ipython",
    "version": 3
   },
   "file_extension": ".py",
   "mimetype": "text/x-python",
   "name": "python",
   "nbconvert_exporter": "python",
   "pygments_lexer": "ipython3",
   "version": "3.10.11"
  }
 },
 "nbformat": 4,
 "nbformat_minor": 2
}
