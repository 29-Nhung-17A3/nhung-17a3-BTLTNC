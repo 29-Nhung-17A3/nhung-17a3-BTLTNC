{
 "cells": [
  {
   "cell_type": "code",
   "execution_count": 1,
   "metadata": {},
   "outputs": [
    {
     "name": "stdout",
     "output_type": "stream",
     "text": [
      "dong nay cho cac series gom cac ky tu 'abcdef' va lay cac chi so ngau nhien\n",
      " so lan xuat hien cua moi gtri duy nhat trg ser la e    8\n",
      "a    4\n",
      "h    4\n",
      "d    4\n",
      "g    3\n",
      "c    3\n",
      "b    2\n",
      "f    2\n",
      "Name: count, dtype: int64\n"
     ]
    }
   ],
   "source": [
    "import numpy as np\n",
    "import pandas as pd\n",
    "ser=pd.Series(np.take(list('abcdefgh'),np.random.randint(8, size=30)))\n",
    "# giai thich\n",
    "print(\"dong nay cho cac series gom cac ky tu 'abcdef' va lay cac chi so ngau nhien\")\n",
    "# so lan xuat hien cua moi gtri duy nhat trg ser\n",
    "value_count=ser.value_counts()\n",
    "print(\" so lan xuat hien cua moi gtri duy nhat trg ser la\",value_count)"
   ]
  }
 ],
 "metadata": {
  "kernelspec": {
   "display_name": "Python 3",
   "language": "python",
   "name": "python3"
  },
  "language_info": {
   "codemirror_mode": {
    "name": "ipython",
    "version": 3
   },
   "file_extension": ".py",
   "mimetype": "text/x-python",
   "name": "python",
   "nbconvert_exporter": "python",
   "pygments_lexer": "ipython3",
   "version": "3.10.11"
  }
 },
 "nbformat": 4,
 "nbformat_minor": 2
}
