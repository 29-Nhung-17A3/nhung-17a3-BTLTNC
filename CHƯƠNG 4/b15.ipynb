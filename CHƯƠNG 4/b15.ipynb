{
 "cells": [
  {
   "cell_type": "code",
   "execution_count": 1,
   "metadata": {},
   "outputs": [
    {
     "name": "stdout",
     "output_type": "stream",
     "text": [
      "chu hoa dau tien trong ser la: 0     How\n",
      "1      To\n",
      "2    Kick\n",
      "3     Ass\n",
      "dtype: object\n"
     ]
    }
   ],
   "source": [
    "import pandas as pd\n",
    "ser = pd.Series(['how', 'to', 'kick', 'ass'])\n",
    "\n",
    "# Chuyển đổi ký tự đầu tiên của mỗi phần tử thành chữ hoa\n",
    "chu_hoa=ser.str.capitalize()\n",
    "print(\"chu hoa dau tien trong ser la:\",chu_hoa)"
   ]
  }
 ],
 "metadata": {
  "kernelspec": {
   "display_name": "Python 3",
   "language": "python",
   "name": "python3"
  },
  "language_info": {
   "codemirror_mode": {
    "name": "ipython",
    "version": 3
   },
   "file_extension": ".py",
   "mimetype": "text/x-python",
   "name": "python",
   "nbconvert_exporter": "python",
   "pygments_lexer": "ipython3",
   "version": "3.10.11"
  }
 },
 "nbformat": 4,
 "nbformat_minor": 2
}
