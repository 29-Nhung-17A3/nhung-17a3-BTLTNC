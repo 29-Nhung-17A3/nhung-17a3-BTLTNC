{
 "cells": [
  {
   "cell_type": "code",
   "execution_count": 1,
   "metadata": {},
   "outputs": [
    {
     "name": "stdout",
     "output_type": "stream",
     "text": [
      "\n",
      "Series sau khi chia thành 10 phần vị:\n",
      "0      Quantile 7\n",
      "1      Quantile 8\n",
      "2      Quantile 3\n",
      "3      Quantile 4\n",
      "4     Quantile 10\n",
      "5      Quantile 6\n",
      "6     Quantile 10\n",
      "7      Quantile 9\n",
      "8      Quantile 5\n",
      "9      Quantile 1\n",
      "10     Quantile 4\n",
      "11     Quantile 6\n",
      "12     Quantile 3\n",
      "13     Quantile 9\n",
      "14     Quantile 7\n",
      "15     Quantile 1\n",
      "16     Quantile 8\n",
      "17     Quantile 2\n",
      "18     Quantile 5\n",
      "19     Quantile 2\n",
      "dtype: category\n",
      "Categories (10, object): ['Quantile 1' < 'Quantile 2' < 'Quantile 3' < 'Quantile 4' ... 'Quantile 7' < 'Quantile 8' < 'Quantile 9' < 'Quantile 10']\n"
     ]
    }
   ],
   "source": [
    "import numpy as np\n",
    "import pandas as pd\n",
    "ser = pd.Series(np.random.random(20))\n",
    "\n",
    "# Chia chuỗi dữ liệu thành 10 phần vị bằng nhau\n",
    "labels = ['Quantile ' + str(i) for i in range(1, 11)]\n",
    "quantiles = pd.qcut(ser, q=10, labels=labels)\n",
    "print(\"\\nSeries sau khi chia thành 10 phần vị:\")\n",
    "print(quantiles)"
   ]
  }
 ],
 "metadata": {
  "kernelspec": {
   "display_name": "Python 3",
   "language": "python",
   "name": "python3"
  },
  "language_info": {
   "codemirror_mode": {
    "name": "ipython",
    "version": 3
   },
   "file_extension": ".py",
   "mimetype": "text/x-python",
   "name": "python",
   "nbconvert_exporter": "python",
   "pygments_lexer": "ipython3",
   "version": "3.10.11"
  }
 },
 "nbformat": 4,
 "nbformat_minor": 2
}
