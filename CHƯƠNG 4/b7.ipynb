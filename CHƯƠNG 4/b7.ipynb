{
 "cells": [
  {
   "cell_type": "code",
   "execution_count": 1,
   "metadata": {},
   "outputs": [
    {
     "name": "stdout",
     "output_type": "stream",
     "text": [
      "\n",
      "Series sau khi thay các phần tử không thuộc top 2 bằng 'Other':\n",
      "0         2\n",
      "1         1\n",
      "2         1\n",
      "3         1\n",
      "4         2\n",
      "5         1\n",
      "6         2\n",
      "7     Other\n",
      "8     Other\n",
      "9         2\n",
      "10    Other\n",
      "11    Other\n",
      "dtype: object\n"
     ]
    }
   ],
   "source": [
    "import numpy as np\n",
    "import pandas as pd\n",
    "np.random.RandomState(100)\n",
    "ser = pd.Series(np.random.randint(1, 5, 12))\n",
    "\n",
    "# Giữ nguyên top 2 tần suất cao nhất và thay các phần tử còn lại bằng 'Other'\n",
    "top2 = ser.value_counts().nlargest(2).index\n",
    "ser = ser.apply(lambda x: x if x in top2 else 'Other')\n",
    "print(\"\\nSeries sau khi thay các phần tử không thuộc top 2 bằng 'Other':\")\n",
    "print(ser)"
   ]
  }
 ],
 "metadata": {
  "kernelspec": {
   "display_name": "Python 3",
   "language": "python",
   "name": "python3"
  },
  "language_info": {
   "codemirror_mode": {
    "name": "ipython",
    "version": 3
   },
   "file_extension": ".py",
   "mimetype": "text/x-python",
   "name": "python",
   "nbconvert_exporter": "python",
   "pygments_lexer": "ipython3",
   "version": "3.10.11"
  }
 },
 "nbformat": 4,
 "nbformat_minor": 2
}
