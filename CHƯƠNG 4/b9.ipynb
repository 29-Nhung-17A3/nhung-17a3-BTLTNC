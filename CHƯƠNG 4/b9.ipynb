{
 "cells": [
  {
   "cell_type": "code",
   "execution_count": 1,
   "metadata": {},
   "outputs": [
    {
     "name": "stdout",
     "output_type": "stream",
     "text": [
      "Đoạn mã tạo Series 35 số nguyên ngẫu nhiên từ 1 đến 9.\n",
      "\n",
      "DataFrame định hình lại:\n",
      "   0  1  2  3  4\n",
      "0  8  2  8  3  6\n",
      "1  5  1  7  1  1\n",
      "2  9  6  5  3  4\n",
      "3  3  6  3  8  5\n",
      "4  9  1  6  2  1\n",
      "5  3  9  7  9  8\n",
      "6  5  1  9  5  4\n"
     ]
    }
   ],
   "source": [
    "\n",
    "import numpy as np\n",
    "import pandas as pd\n",
    "ser = pd.Series(np.random.randint(1, 10, 35))\n",
    "\n",
    "# Giải thích ý nghĩa: Tạo Series gồm 35 giá trị ngẫu nhiên trong khoảng [1, 10)\n",
    "print(\"Đoạn mã tạo Series 35 số nguyên ngẫu nhiên từ 1 đến 9.\")\n",
    "\n",
    "# Định hình lại Series thành DataFrame có 7 hàng và 5 cột\n",
    "df = pd.DataFrame(ser.values.reshape(7, 5))\n",
    "print(\"\\nDataFrame định hình lại:\")\n",
    "print(df)"
   ]
  }
 ],
 "metadata": {
  "kernelspec": {
   "display_name": "Python 3",
   "language": "python",
   "name": "python3"
  },
  "language_info": {
   "codemirror_mode": {
    "name": "ipython",
    "version": 3
   },
   "file_extension": ".py",
   "mimetype": "text/x-python",
   "name": "python",
   "nbconvert_exporter": "python",
   "pygments_lexer": "ipython3",
   "version": "3.10.11"
  }
 },
 "nbformat": 4,
 "nbformat_minor": 2
}
