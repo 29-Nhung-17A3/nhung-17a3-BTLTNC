{
 "cells": [
  {
   "cell_type": "code",
   "execution_count": 1,
   "metadata": {},
   "outputs": [
    {
     "name": "stdout",
     "output_type": "stream",
     "text": [
      "DANH SÁCH CÁC BÀI POST:\n",
      "   - id labore ex et quam laborum\n",
      "   - quo vero reiciendis velit similique earum\n",
      "   - odio adipisci rerum aut animi\n",
      "   - alias odio sit\n",
      "   - vero eaque aliquid doloribus et culpa\n",
      "DANG SÁCH THÔNG TIN CỦA MỖI BÀI POST:\n",
      "postId: 1\n",
      "ID: 1\n",
      "Tên: id labore ex et quam laborum\n",
      "Email: Eliseo@gardner.biz\n",
      "Nội dung: laudantium enim quasi est quidem magnam voluptate ipsam eos\n",
      "tempora quo necessitatibus\n",
      "dolor quam autem quasi\n",
      "reiciendis et nam sapiente accusantium\n",
      "==================================\n",
      "postId: 1\n",
      "ID: 2\n",
      "Tên: quo vero reiciendis velit similique earum\n",
      "Email: Jayne_Kuhic@sydney.com\n",
      "Nội dung: est natus enim nihil est dolore omnis voluptatem numquam\n",
      "et omnis occaecati quod ullam at\n",
      "voluptatem error expedita pariatur\n",
      "nihil sint nostrum voluptatem reiciendis et\n",
      "==================================\n",
      "postId: 1\n",
      "ID: 3\n",
      "Tên: odio adipisci rerum aut animi\n",
      "Email: Nikita@garfield.biz\n",
      "Nội dung: quia molestiae reprehenderit quasi aspernatur\n",
      "aut expedita occaecati aliquam eveniet laudantium\n",
      "omnis quibusdam delectus saepe quia accusamus maiores nam est\n",
      "cum et ducimus et vero voluptates excepturi deleniti ratione\n",
      "==================================\n"
     ]
    }
   ],
   "source": [
    "import requests\n",
    "response = requests.get('https://jsonplaceholder.typicode.com/comments?postId=1')\n",
    "if response.status_code == 200:\n",
    "    json_data = response.json()\n",
    "    print('DANH SÁCH CÁC BÀI POST:')\n",
    "    for post in json_data:\n",
    "        print(\"   -\",post['name'])\n",
    "    print('DANG SÁCH THÔNG TIN CỦA MỖI BÀI POST:')\n",
    "    for post in json_data:\n",
    "        print(\"postId:\", post['postId'])\n",
    "        print(\"ID:\", post['id'])\n",
    "        print(\"Tên:\", post['name'])\n",
    "        print(\"Email:\", post['email'])\n",
    "        print(\"Nội dung:\", post['body'])\n",
    "        print(\"==================================\")\n",
    "        if post['id']==3:\n",
    "            break\n",
    "else:\n",
    "    print(\"Yêu cầu không thành công. Mã trạng thái:\", response.status_code)"
   ]
  }
 ],
 "metadata": {
  "kernelspec": {
   "display_name": "Python 3",
   "language": "python",
   "name": "python3"
  },
  "language_info": {
   "codemirror_mode": {
    "name": "ipython",
    "version": 3
   },
   "file_extension": ".py",
   "mimetype": "text/x-python",
   "name": "python",
   "nbconvert_exporter": "python",
   "pygments_lexer": "ipython3",
   "version": "3.10.11"
  }
 },
 "nbformat": 4,
 "nbformat_minor": 2
}
